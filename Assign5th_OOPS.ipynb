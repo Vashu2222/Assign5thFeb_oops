{
 "cells": [
  {
   "cell_type": "code",
   "execution_count": 2,
   "id": "e8cc3b56-8a75-4d8d-93cd-789e47b6b34b",
   "metadata": {},
   "outputs": [],
   "source": [
    "# Answer 1 :"
   ]
  },
  {
   "cell_type": "code",
   "execution_count": 3,
   "id": "5480b609-5131-4706-922e-80f48c72e20b",
   "metadata": {},
   "outputs": [],
   "source": [
    "# Solving a problem by creating objects is one of the most popular approcahes in programming. This is called oject oriented programming."
   ]
  },
  {
   "cell_type": "code",
   "execution_count": 4,
   "id": "50b7039f-0785-44d2-84e8-f73b9b6f708d",
   "metadata": {},
   "outputs": [],
   "source": [
    "# Class : a class is a blueprint for creating objects. EXP:"
   ]
  },
  {
   "cell_type": "code",
   "execution_count": 5,
   "id": "45ce6125-dcfd-4f8d-a13a-683fb6f00553",
   "metadata": {},
   "outputs": [
    {
     "name": "stdout",
     "output_type": "stream",
     "text": [
      "<class 'str'>\n"
     ]
    }
   ],
   "source": [
    "print(type(\"Vashu Kumar\"))"
   ]
  },
  {
   "cell_type": "code",
   "execution_count": 6,
   "id": "9933ab8a-d19c-4d3e-85d2-ed4ac47a6ffd",
   "metadata": {},
   "outputs": [],
   "source": [
    "# Object : The object is an entity that has a state and behavior associated with it."
   ]
  },
  {
   "cell_type": "code",
   "execution_count": 14,
   "id": "df601ddb-b62a-4c14-b313-0c11af0d1799",
   "metadata": {},
   "outputs": [],
   "source": [
    "class pwskills1 :\n",
    "    \n",
    "    def __init__(self , phone_number , email_id , student_id) :\n",
    "        self.phone_number = phone_number\n",
    "       "
   ]
  },
  {
   "cell_type": "code",
   "execution_count": 15,
   "id": "d9ea646e-0975-4704-a420-6ddd03a1e156",
   "metadata": {},
   "outputs": [],
   "source": [
    "# in this program self.phone_number associated with phone number there is self.phone_number is called object not phone_number. "
   ]
  },
  {
   "cell_type": "code",
   "execution_count": 16,
   "id": "5fe15579-b41b-4f4c-a0a1-0facb3c5b8c9",
   "metadata": {},
   "outputs": [],
   "source": [
    "# Answer 2 :"
   ]
  },
  {
   "cell_type": "code",
   "execution_count": 17,
   "id": "f1360475-f066-46a9-94e0-22588b27beb9",
   "metadata": {},
   "outputs": [],
   "source": [
    "# Four pillor of oops are Class, Object, Polymorphism and Abstraction."
   ]
  },
  {
   "cell_type": "code",
   "execution_count": 19,
   "id": "a81f7cf2-8d15-4749-812c-11930d5f7ade",
   "metadata": {},
   "outputs": [],
   "source": [
    "# Answer 3 : __init__ is a special method which is first run as soon as the object is created and also known as a constructor. It takes self argument and can also take further arguments."
   ]
  },
  {
   "cell_type": "code",
   "execution_count": 31,
   "id": "0640f5ca-8cfd-441f-99e8-d66c56075820",
   "metadata": {},
   "outputs": [],
   "source": [
    "class employee :\n",
    "    def __init__(self, name):\n",
    "        self.name = name\n",
    "    def return_employee_name(self):\n",
    "        return self.name"
   ]
  },
  {
   "cell_type": "code",
   "execution_count": 32,
   "id": "de0cfc0c-eafb-479e-b8df-ad6d40117bae",
   "metadata": {},
   "outputs": [],
   "source": [
    "a = employee(\"Vashu Kumar\")"
   ]
  },
  {
   "cell_type": "code",
   "execution_count": 33,
   "id": "b82f5d5b-8798-48e0-a67c-b5d19817d075",
   "metadata": {},
   "outputs": [
    {
     "data": {
      "text/plain": [
       "'Vashu Kumar'"
      ]
     },
     "execution_count": 33,
     "metadata": {},
     "output_type": "execute_result"
    }
   ],
   "source": [
    "a.return_employee_name()"
   ]
  },
  {
   "cell_type": "code",
   "execution_count": 34,
   "id": "e2021752-8991-4d56-8c16-b197925a6e3d",
   "metadata": {},
   "outputs": [],
   "source": [
    "# Anser 4 -th :The self parameter is a reference to the current instance of the class, and is used to access variables that belongs to the class."
   ]
  },
  {
   "cell_type": "code",
   "execution_count": 35,
   "id": "ef5d3002-c6ba-4fd2-a03b-e2dc95a6c269",
   "metadata": {},
   "outputs": [],
   "source": [
    "# Answer 5th : Inheritance is a why of creating a new class from an existing class."
   ]
  },
  {
   "cell_type": "code",
   "execution_count": 36,
   "id": "a32a0228-9c31-4e4a-9807-10e8612706fb",
   "metadata": {},
   "outputs": [],
   "source": [
    "class person(object) :\n",
    "    def __init__(self, name, id) :\n",
    "        self.name = name\n",
    "        self.id = id\n",
    "    def display(self):\n",
    "        print(self.name, self.id)"
   ]
  },
  {
   "cell_type": "code",
   "execution_count": 37,
   "id": "943cc394-3e20-4eee-8215-cd8dc57e031d",
   "metadata": {},
   "outputs": [],
   "source": [
    "emp = person(\"Vashu\" , 444)"
   ]
  },
  {
   "cell_type": "code",
   "execution_count": 38,
   "id": "21a09590-5ee0-4290-a089-303181ce373c",
   "metadata": {},
   "outputs": [
    {
     "name": "stdout",
     "output_type": "stream",
     "text": [
      "Vashu 444\n"
     ]
    }
   ],
   "source": [
    "emp.display()"
   ]
  },
  {
   "cell_type": "code",
   "execution_count": null,
   "id": "37231ba4-1f0c-4278-ba35-2a5e4d3717d9",
   "metadata": {},
   "outputs": [],
   "source": []
  }
 ],
 "metadata": {
  "kernelspec": {
   "display_name": "Python 3 (ipykernel)",
   "language": "python",
   "name": "python3"
  },
  "language_info": {
   "codemirror_mode": {
    "name": "ipython",
    "version": 3
   },
   "file_extension": ".py",
   "mimetype": "text/x-python",
   "name": "python",
   "nbconvert_exporter": "python",
   "pygments_lexer": "ipython3",
   "version": "3.10.8"
  }
 },
 "nbformat": 4,
 "nbformat_minor": 5
}
